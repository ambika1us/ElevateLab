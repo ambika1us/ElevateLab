{
 "cells": [
  {
   "cell_type": "code",
   "execution_count": 106,
   "id": "567696ad-d1d0-4545-a485-1f9c941fb4d8",
   "metadata": {},
   "outputs": [],
   "source": [
    "import pandas as pd\n",
    "from sqlalchemy import create_engine, text\n",
    "import sqlite3"
   ]
  },
  {
   "cell_type": "code",
   "execution_count": 107,
   "id": "faff3ca0-312d-4f1b-9a89-4d03701df798",
   "metadata": {},
   "outputs": [
    {
     "name": "stdout",
     "output_type": "stream",
     "text": [
      "Connected to SQLite successfully!\n"
     ]
    }
   ],
   "source": [
    "conn = sqlite3.connect(\"sales_data.db\", timeout=10)\n",
    "cursor = conn.cursor()\n",
    "print(\"Connected to SQLite successfully!\")\n"
   ]
  },
  {
   "cell_type": "code",
   "execution_count": 108,
   "id": "f4e2c6d0-3051-410e-ba50-ff1854a8c86c",
   "metadata": {},
   "outputs": [
    {
     "name": "stdout",
     "output_type": "stream",
     "text": [
      "Table 'sales1' created successfully!\n"
     ]
    }
   ],
   "source": [
    "# Create the table\n",
    "cursor.execute(\"\"\"\n",
    "CREATE TABLE IF NOT EXISTS sales1 (\n",
    "    order_id INTEGER PRIMARY KEY,\n",
    "    order_date DATE NOT NULL,\n",
    "    amount NUMERIC NOT NULL,\n",
    "    product TEXT NOT NULL,\n",
    "    order_qty INTEGER NOT NULL\n",
    ");\n",
    "\"\"\")\n",
    "\n",
    "conn.commit()  # Save changes\n",
    "print(\"Table 'sales1' created successfully!\")\n",
    "\n",
    "# Close the connection\n",
    "conn.close()"
   ]
  },
  {
   "cell_type": "code",
   "execution_count": 109,
   "id": "c35b863c-5cf5-4d58-89c2-c95e0c61497a",
   "metadata": {},
   "outputs": [],
   "source": [
    "conn = sqlite3.connect(\"my_database.db\", timeout=10)\n",
    "query=\"SELECT * FROM sales1\"\n",
    "df = pd.read_sql_query(query, conn)"
   ]
  },
  {
   "cell_type": "code",
   "execution_count": 110,
   "id": "42259320-5c27-480b-b7c3-4ae721560a29",
   "metadata": {},
   "outputs": [
    {
     "data": {
      "text/html": [
       "<div>\n",
       "<style scoped>\n",
       "    .dataframe tbody tr th:only-of-type {\n",
       "        vertical-align: middle;\n",
       "    }\n",
       "\n",
       "    .dataframe tbody tr th {\n",
       "        vertical-align: top;\n",
       "    }\n",
       "\n",
       "    .dataframe thead th {\n",
       "        text-align: right;\n",
       "    }\n",
       "</style>\n",
       "<table border=\"1\" class=\"dataframe\">\n",
       "  <thead>\n",
       "    <tr style=\"text-align: right;\">\n",
       "      <th></th>\n",
       "      <th>order_id</th>\n",
       "      <th>order_date</th>\n",
       "      <th>amount</th>\n",
       "      <th>product</th>\n",
       "      <th>order_qty</th>\n",
       "    </tr>\n",
       "  </thead>\n",
       "  <tbody>\n",
       "    <tr>\n",
       "      <th>0</th>\n",
       "      <td>1</td>\n",
       "      <td>2025-05-01</td>\n",
       "      <td>1500.00</td>\n",
       "      <td>Laptop</td>\n",
       "      <td>2</td>\n",
       "    </tr>\n",
       "    <tr>\n",
       "      <th>1</th>\n",
       "      <td>2</td>\n",
       "      <td>2025-04-30</td>\n",
       "      <td>1200.50</td>\n",
       "      <td>Smartphone</td>\n",
       "      <td>3</td>\n",
       "    </tr>\n",
       "    <tr>\n",
       "      <th>2</th>\n",
       "      <td>3</td>\n",
       "      <td>2025-04-29</td>\n",
       "      <td>750.75</td>\n",
       "      <td>Headphones</td>\n",
       "      <td>5</td>\n",
       "    </tr>\n",
       "    <tr>\n",
       "      <th>3</th>\n",
       "      <td>4</td>\n",
       "      <td>2025-04-28</td>\n",
       "      <td>1800.00</td>\n",
       "      <td>Monitor</td>\n",
       "      <td>1</td>\n",
       "    </tr>\n",
       "    <tr>\n",
       "      <th>4</th>\n",
       "      <td>5</td>\n",
       "      <td>2025-04-27</td>\n",
       "      <td>950.25</td>\n",
       "      <td>Keyboard</td>\n",
       "      <td>4</td>\n",
       "    </tr>\n",
       "    <tr>\n",
       "      <th>5</th>\n",
       "      <td>6</td>\n",
       "      <td>2025-04-26</td>\n",
       "      <td>1100.75</td>\n",
       "      <td>Mouse</td>\n",
       "      <td>6</td>\n",
       "    </tr>\n",
       "    <tr>\n",
       "      <th>6</th>\n",
       "      <td>7</td>\n",
       "      <td>2025-04-25</td>\n",
       "      <td>1350.00</td>\n",
       "      <td>Tablet</td>\n",
       "      <td>2</td>\n",
       "    </tr>\n",
       "    <tr>\n",
       "      <th>7</th>\n",
       "      <td>8</td>\n",
       "      <td>2025-04-24</td>\n",
       "      <td>500.50</td>\n",
       "      <td>USB Drive</td>\n",
       "      <td>10</td>\n",
       "    </tr>\n",
       "    <tr>\n",
       "      <th>8</th>\n",
       "      <td>9</td>\n",
       "      <td>2025-04-23</td>\n",
       "      <td>2500.00</td>\n",
       "      <td>Printer</td>\n",
       "      <td>1</td>\n",
       "    </tr>\n",
       "    <tr>\n",
       "      <th>9</th>\n",
       "      <td>10</td>\n",
       "      <td>2025-04-22</td>\n",
       "      <td>1450.75</td>\n",
       "      <td>Router</td>\n",
       "      <td>3</td>\n",
       "    </tr>\n",
       "  </tbody>\n",
       "</table>\n",
       "</div>"
      ],
      "text/plain": [
       "   order_id  order_date   amount     product  order_qty\n",
       "0         1  2025-05-01  1500.00      Laptop          2\n",
       "1         2  2025-04-30  1200.50  Smartphone          3\n",
       "2         3  2025-04-29   750.75  Headphones          5\n",
       "3         4  2025-04-28  1800.00     Monitor          1\n",
       "4         5  2025-04-27   950.25    Keyboard          4\n",
       "5         6  2025-04-26  1100.75       Mouse          6\n",
       "6         7  2025-04-25  1350.00      Tablet          2\n",
       "7         8  2025-04-24   500.50   USB Drive         10\n",
       "8         9  2025-04-23  2500.00     Printer          1\n",
       "9        10  2025-04-22  1450.75      Router          3"
      ]
     },
     "execution_count": 110,
     "metadata": {},
     "output_type": "execute_result"
    }
   ],
   "source": [
    "df"
   ]
  },
  {
   "cell_type": "code",
   "execution_count": 111,
   "id": "6bcf7d8c-2ab1-4b2d-bd93-4cb0c737308b",
   "metadata": {},
   "outputs": [
    {
     "name": "stdout",
     "output_type": "stream",
     "text": [
      "   Total_Order\n",
      "0           37\n"
     ]
    }
   ],
   "source": [
    "query=\"SELECT sum(order_qty) as Total_Order FROM sales1\"\n",
    "df = pd.read_sql_query(query, conn)\n",
    "print(df)"
   ]
  },
  {
   "cell_type": "code",
   "execution_count": 112,
   "id": "72a70320-a074-4e6c-ac91-ead215a095bb",
   "metadata": {},
   "outputs": [
    {
     "name": "stdout",
     "output_type": "stream",
     "text": [
      "   Total_Amount\n",
      "0       13103.5\n"
     ]
    }
   ],
   "source": [
    "query=\"SELECT sum(amount) as Total_Amount FROM sales1\"\n",
    "df = pd.read_sql_query(query, conn)\n",
    "print(df)"
   ]
  },
  {
   "cell_type": "code",
   "execution_count": 113,
   "id": "86792516-df78-40a3-b41d-f389078ecf4d",
   "metadata": {},
   "outputs": [
    {
     "name": "stdout",
     "output_type": "stream",
     "text": [
      "      product  total_qty  revenue\n",
      "0  Headphones          5  3753.75\n",
      "1    Keyboard          4  3801.00\n",
      "2      Laptop          2  3000.00\n",
      "3     Monitor          1  1800.00\n",
      "4       Mouse          6  6604.50\n",
      "5     Printer          1  2500.00\n",
      "6      Router          3  4352.25\n",
      "7  Smartphone          3  3601.50\n",
      "8      Tablet          2  2700.00\n",
      "9   USB Drive         10  5005.00\n"
     ]
    }
   ],
   "source": [
    "query = \"SELECT product, SUM(order_qty) AS total_qty, SUM(order_qty * amount) AS revenue FROM sales1 GROUP BY product\"\n",
    "df=pd.read_sql_query(query,conn)\n",
    "print(df)"
   ]
  },
  {
   "cell_type": "code",
   "execution_count": 114,
   "id": "9834686c-5388-49ab-af33-982729099211",
   "metadata": {},
   "outputs": [
    {
     "name": "stdout",
     "output_type": "stream",
     "text": [
      "   order_id  order_date  amount product  order_qty\n",
      "0         1  2025-05-01    1500  Laptop          2\n"
     ]
    }
   ],
   "source": [
    "query = \"SELECT * FROM sales1 where product='Laptop'\"\n",
    "df=pd.read_sql_query(query,conn)\n",
    "print(df)"
   ]
  },
  {
   "cell_type": "code",
   "execution_count": null,
   "id": "d7d842f6-4eb2-4c40-a267-859fa8812511",
   "metadata": {},
   "outputs": [],
   "source": []
  }
 ],
 "metadata": {
  "kernelspec": {
   "display_name": "Python 3 (ipykernel)",
   "language": "python",
   "name": "python3"
  },
  "language_info": {
   "codemirror_mode": {
    "name": "ipython",
    "version": 3
   },
   "file_extension": ".py",
   "mimetype": "text/x-python",
   "name": "python",
   "nbconvert_exporter": "python",
   "pygments_lexer": "ipython3",
   "version": "3.12.4"
  }
 },
 "nbformat": 4,
 "nbformat_minor": 5
}
